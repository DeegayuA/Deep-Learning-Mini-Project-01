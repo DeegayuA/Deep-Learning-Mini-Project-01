{
  "nbformat": 4,
  "nbformat_minor": 0,
  "metadata": {
    "colab": {
      "provenance": []
    },
    "kernelspec": {
      "name": "python3",
      "display_name": "Python 3"
    },
    "language_info": {
      "name": "python"
    }
  },
  "cells": [
    {
      "cell_type": "markdown",
      "source": [
        "**Creating CSV files**"
      ],
      "metadata": {
        "id": "-m5fwTnvs-G7"
      }
    },
    {
      "cell_type": "code",
      "execution_count": 104,
      "metadata": {
        "id": "bFcXbisUqoFI"
      },
      "outputs": [],
      "source": [
        "import numpy as np\n",
        "import random\n",
        "import os\n",
        "import matplotlib.pyplot as plt\n",
        "from tensorflow.keras.models import Sequential\n",
        "from tensorflow.keras.layers import Conv2D, MaxPooling2D, Dense, Flatten\n",
        "from tensorflow.keras.utils import to_categorical\n",
        "from tensorflow.keras.preprocessing.image import load_img, img_to_array\n",
        "from tensorflow.keras.models import load_model\n"
      ]
    },
    {
      "cell_type": "markdown",
      "source": [
        "**Mount the Google Drive**"
      ],
      "metadata": {
        "id": "YHhQLsj9tp60"
      }
    },
    {
      "cell_type": "code",
      "source": [
        "from google.colab import drive\n",
        "drive.mount('/content/drive')"
      ],
      "metadata": {
        "colab": {
          "base_uri": "https://localhost:8080/"
        },
        "id": "bkR8jXOFtwYY",
        "outputId": "c4257838-0995-4d3a-b01f-119b3201d16e"
      },
      "execution_count": 105,
      "outputs": [
        {
          "output_type": "stream",
          "name": "stdout",
          "text": [
            "Drive already mounted at /content/drive; to attempt to forcibly remount, call drive.mount(\"/content/drive\", force_remount=True).\n"
          ]
        }
      ]
    },
    {
      "cell_type": "markdown",
      "source": [
        "**Preprocess the Data: Load the images, resize them, and create labels.**"
      ],
      "metadata": {
        "id": "VabUim_A6IG3"
      }
    },
    {
      "cell_type": "code",
      "source": [
        "image_paths = []\n",
        "labels = []"
      ],
      "metadata": {
        "id": "c_KeUy-a6NrE"
      },
      "execution_count": 106,
      "outputs": []
    },
    {
      "cell_type": "markdown",
      "source": [
        "**Load the Dataset and Class Labels**"
      ],
      "metadata": {
        "id": "s-3-gVyi9UX5"
      }
    },
    {
      "cell_type": "code",
      "source": [
        "# Directory containing the uploaded images\n",
        "image_dir = '/content/drive/My Drive/Deep_Learning/Data'\n",
        "\n",
        "# Initialize lists to store image file paths and corresponding labels\n",
        "image_paths = []\n",
        "labels = []\n",
        "\n",
        "for filename in os.listdir(image_dir):\n",
        "    if filename.startswith(\"R\") or filename.startswith(\"P\"):\n",
        "        image_paths.append(os.path.join(image_dir, filename))\n",
        "        # Create labels based on the filenames (0 for R, 1 for P)\n",
        "        if filename.startswith(\"R\"):\n",
        "            labels.append(0)\n",
        "        elif filename.startswith(\"P\"):\n",
        "            labels.append(1)\n",
        "\n",
        "# Create a DataFrame to store image paths and labels\n",
        "df = pd.DataFrame({'Image_Path': image_paths, 'Label': labels})\n",
        "\n",
        "# Define the paths for the CSV files\n",
        "train_csv_path = '/content/drive/My Drive/Deep_Learning/train.csv'\n",
        "test_csv_path = '/content/drive/My Drive/Deep_Learning/test.csv'\n",
        "\n",
        "# Split the DataFrame into training and testing sets\n",
        "train_df, test_df = train_test_split(df, test_size=0.2, random_state=42)\n",
        "\n",
        "# Save the training and testing DataFrames as CSV files\n",
        "train_df.to_csv(train_csv_path, index=False)\n",
        "test_df.to_csv(test_csv_path, index=False)\n",
        "\n",
        "print(f\"CSV files saved:\\n- Training CSV: {train_csv_path}\\n- Testing CSV: {test_csv_path}\")\n"
      ],
      "metadata": {
        "colab": {
          "base_uri": "https://localhost:8080/"
        },
        "id": "DWfYNIhBRE8N",
        "outputId": "750f76ab-50f3-4782-8b01-1846eee01c95"
      },
      "execution_count": 107,
      "outputs": [
        {
          "output_type": "stream",
          "name": "stdout",
          "text": [
            "CSV files saved:\n",
            "- Training CSV: /content/drive/My Drive/Deep_Learning/train.csv\n",
            "- Testing CSV: /content/drive/My Drive/Deep_Learning/test.csv\n"
          ]
        }
      ]
    },
    {
      "cell_type": "code",
      "source": [
        "os.chdir(\"/content/drive/My Drive/Deep_Learning/\")\n",
        "os.getcwd()"
      ],
      "metadata": {
        "colab": {
          "base_uri": "https://localhost:8080/",
          "height": 35
        },
        "id": "hX2FYrCj2VDp",
        "outputId": "5b959409-b71a-4c43-d0a3-a6d7f2b63e52"
      },
      "execution_count": 108,
      "outputs": [
        {
          "output_type": "execute_result",
          "data": {
            "text/plain": [
              "'/content/drive/My Drive/Deep_Learning'"
            ],
            "application/vnd.google.colaboratory.intrinsic+json": {
              "type": "string"
            }
          },
          "metadata": {},
          "execution_count": 108
        }
      ]
    },
    {
      "cell_type": "markdown",
      "source": [
        "**Develop the CNN Algorithm**"
      ],
      "metadata": {
        "id": "7BNCLyPmL7xa"
      }
    },
    {
      "cell_type": "code",
      "source": [
        "# Define image size\n",
        "image_height, image_width = 80, 80\n",
        "\n",
        "# Define the paths for the CSV files (change these paths as needed)\n",
        "train_csv_path = '/content/drive/My Drive/Deep_Learning/train.csv'\n",
        "test_csv_path = '/content/drive/My Drive/Deep_Learning/test.csv'\n",
        "\n",
        "# Load the CSV files\n",
        "train_df = pd.read_csv(train_csv_path)\n",
        "test_df = pd.read_csv(test_csv_path)"
      ],
      "metadata": {
        "id": "BJVNzF59XXNA"
      },
      "execution_count": 109,
      "outputs": []
    },
    {
      "cell_type": "code",
      "source": [
        "# Load and preprocess the images\n",
        "def preprocess_images(image_paths, target_size=(image_height, image_width)):\n",
        "    images = []\n",
        "    for image_path in image_paths:\n",
        "        img = load_img(image_path, target_size=target_size)\n",
        "        img = img_to_array(img) / 255.0\n",
        "        images.append(img)\n",
        "    return np.array(images)\n"
      ],
      "metadata": {
        "id": "A-7xyAVcXaJ1"
      },
      "execution_count": 110,
      "outputs": []
    },
    {
      "cell_type": "code",
      "source": [
        "X_train = preprocess_images(train_df['Image_Path'])\n",
        "X_test = preprocess_images(test_df['Image_Path'])\n",
        "\n",
        "# Convert labels to binary format (0 or 1)\n",
        "Y_train = train_df['Label'].values\n",
        "Y_test = test_df['Label'].values"
      ],
      "metadata": {
        "id": "ONvmSzHFXd4F"
      },
      "execution_count": 126,
      "outputs": []
    },
    {
      "cell_type": "code",
      "source": [
        "X_train = X_train.reshape(len(X_train), 80, 80, 3)\n",
        "Y_train = Y_train.reshape(len(Y_train), 1)\n",
        "X_test = X_test.reshape(len(X_test), 80, 80, 3)\n",
        "Y_test = Y_test.reshape(len(Y_test), 1)\n",
        "print(\"Shape of X_train: \", X_train.shape)\n",
        "print(\"Shape of Y_train: \", Y_train.shape)\n",
        "print(\"Shape of X_test: \", X_test.shape)\n",
        "print(\"Shape of Y_test: \", Y_test.shape)\n"
      ],
      "metadata": {
        "colab": {
          "base_uri": "https://localhost:8080/"
        },
        "id": "SqFDWONIY4kC",
        "outputId": "86228b28-76bb-426c-b8cb-efaf41989245"
      },
      "execution_count": 128,
      "outputs": [
        {
          "output_type": "stream",
          "name": "stdout",
          "text": [
            "Shape of X_train:  (80, 80, 80, 3)\n",
            "Shape of Y_train:  (80, 1)\n",
            "Shape of X_test:  (20, 80, 80, 3)\n",
            "Shape of Y_test:  (20, 1)\n"
          ]
        }
      ]
    },
    {
      "cell_type": "code",
      "source": [
        "\n",
        "# Create a CNN model for binary classification\n",
        "model = Sequential()\n",
        "model.add(Conv2D(32, kernel_size=(3, 3), activation='relu', input_shape=(image_height, image_width, 3)))\n",
        "model.add(MaxPooling2D(pool_size=(2, 2)))\n",
        "model.add(Flatten())\n",
        "model.add(Dense(128, activation='relu'))\n",
        "model.add(Dense(1, activation='sigmoid'))  # Sigmoid activation for binary classification\n",
        "\n"
      ],
      "metadata": {
        "id": "xEdqU_GS8nXN"
      },
      "execution_count": 171,
      "outputs": []
    },
    {
      "cell_type": "code",
      "source": [
        "# Compile the model\n",
        "model.compile(loss='binary_crossentropy', optimizer='adam', metrics=['accuracy'])"
      ],
      "metadata": {
        "id": "KGZf_rS_XiOe"
      },
      "execution_count": 172,
      "outputs": []
    },
    {
      "cell_type": "code",
      "source": [
        "model.fit(X_train, Y_train, epochs = 40, batch_size = 64)"
      ],
      "metadata": {
        "colab": {
          "base_uri": "https://localhost:8080/"
        },
        "id": "uqZ8ITMZXlde",
        "outputId": "ca4db6df-77b2-4b1f-b84a-549999dd5ff3"
      },
      "execution_count": 173,
      "outputs": [
        {
          "output_type": "stream",
          "name": "stdout",
          "text": [
            "Epoch 1/40\n",
            "2/2 [==============================] - 2s 178ms/step - loss: 0.5778 - accuracy: 0.6500\n",
            "Epoch 2/40\n",
            "2/2 [==============================] - 1s 178ms/step - loss: 9.5400e-04 - accuracy: 1.0000\n",
            "Epoch 3/40\n",
            "2/2 [==============================] - 1s 189ms/step - loss: 0.0014 - accuracy: 1.0000\n",
            "Epoch 4/40\n",
            "2/2 [==============================] - 1s 175ms/step - loss: 2.0058e-04 - accuracy: 1.0000\n",
            "Epoch 5/40\n",
            "2/2 [==============================] - 0s 107ms/step - loss: 9.5001e-06 - accuracy: 1.0000\n",
            "Epoch 6/40\n",
            "2/2 [==============================] - 0s 118ms/step - loss: 6.5851e-07 - accuracy: 1.0000\n",
            "Epoch 7/40\n",
            "2/2 [==============================] - 0s 135ms/step - loss: 1.2347e-07 - accuracy: 1.0000\n",
            "Epoch 8/40\n",
            "2/2 [==============================] - 0s 106ms/step - loss: 2.9630e-08 - accuracy: 1.0000\n",
            "Epoch 9/40\n",
            "2/2 [==============================] - 0s 111ms/step - loss: 9.0469e-09 - accuracy: 1.0000\n",
            "Epoch 10/40\n",
            "2/2 [==============================] - 0s 108ms/step - loss: 3.3023e-09 - accuracy: 1.0000\n",
            "Epoch 11/40\n",
            "2/2 [==============================] - 0s 122ms/step - loss: 1.1027e-09 - accuracy: 1.0000\n",
            "Epoch 12/40\n",
            "2/2 [==============================] - 0s 127ms/step - loss: 6.7568e-10 - accuracy: 1.0000\n",
            "Epoch 13/40\n",
            "2/2 [==============================] - 0s 115ms/step - loss: 3.2017e-10 - accuracy: 1.0000\n",
            "Epoch 14/40\n",
            "2/2 [==============================] - 0s 110ms/step - loss: 2.4051e-10 - accuracy: 1.0000\n",
            "Epoch 15/40\n",
            "2/2 [==============================] - 0s 113ms/step - loss: 1.6030e-10 - accuracy: 1.0000\n",
            "Epoch 16/40\n",
            "2/2 [==============================] - 0s 104ms/step - loss: 1.1309e-10 - accuracy: 1.0000\n",
            "Epoch 17/40\n",
            "2/2 [==============================] - 0s 122ms/step - loss: 8.5317e-11 - accuracy: 1.0000\n",
            "Epoch 18/40\n",
            "2/2 [==============================] - 0s 117ms/step - loss: 6.7739e-11 - accuracy: 1.0000\n",
            "Epoch 19/40\n",
            "2/2 [==============================] - 0s 108ms/step - loss: 5.5781e-11 - accuracy: 1.0000\n",
            "Epoch 20/40\n",
            "2/2 [==============================] - 0s 111ms/step - loss: 4.7417e-11 - accuracy: 1.0000\n",
            "Epoch 21/40\n",
            "2/2 [==============================] - 0s 105ms/step - loss: 4.1099e-11 - accuracy: 1.0000\n",
            "Epoch 22/40\n",
            "2/2 [==============================] - 0s 128ms/step - loss: 3.5531e-11 - accuracy: 1.0000\n",
            "Epoch 23/40\n",
            "2/2 [==============================] - 0s 112ms/step - loss: 3.3686e-11 - accuracy: 1.0000\n",
            "Epoch 24/40\n",
            "2/2 [==============================] - 0s 114ms/step - loss: 3.0359e-11 - accuracy: 1.0000\n",
            "Epoch 25/40\n",
            "2/2 [==============================] - 0s 104ms/step - loss: 2.9239e-11 - accuracy: 1.0000\n",
            "Epoch 26/40\n",
            "2/2 [==============================] - 0s 114ms/step - loss: 2.7219e-11 - accuracy: 1.0000\n",
            "Epoch 27/40\n",
            "2/2 [==============================] - 0s 115ms/step - loss: 2.6595e-11 - accuracy: 1.0000\n",
            "Epoch 28/40\n",
            "2/2 [==============================] - 0s 108ms/step - loss: 2.5656e-11 - accuracy: 1.0000\n",
            "Epoch 29/40\n",
            "2/2 [==============================] - 1s 164ms/step - loss: 2.4906e-11 - accuracy: 1.0000\n",
            "Epoch 30/40\n",
            "2/2 [==============================] - 1s 168ms/step - loss: 2.4073e-11 - accuracy: 1.0000\n",
            "Epoch 31/40\n",
            "2/2 [==============================] - 1s 175ms/step - loss: 2.3800e-11 - accuracy: 1.0000\n",
            "Epoch 32/40\n",
            "2/2 [==============================] - 1s 165ms/step - loss: 2.3424e-11 - accuracy: 1.0000\n",
            "Epoch 33/40\n",
            "2/2 [==============================] - 1s 163ms/step - loss: 2.3097e-11 - accuracy: 1.0000\n",
            "Epoch 34/40\n",
            "2/2 [==============================] - 1s 175ms/step - loss: 2.2752e-11 - accuracy: 1.0000\n",
            "Epoch 35/40\n",
            "2/2 [==============================] - 1s 114ms/step - loss: 2.2629e-11 - accuracy: 1.0000\n",
            "Epoch 36/40\n",
            "2/2 [==============================] - 0s 146ms/step - loss: 2.2465e-11 - accuracy: 1.0000\n",
            "Epoch 37/40\n",
            "2/2 [==============================] - 0s 114ms/step - loss: 2.2317e-11 - accuracy: 1.0000\n",
            "Epoch 38/40\n",
            "2/2 [==============================] - 0s 124ms/step - loss: 2.2206e-11 - accuracy: 1.0000\n",
            "Epoch 39/40\n",
            "2/2 [==============================] - 0s 109ms/step - loss: 2.2116e-11 - accuracy: 1.0000\n",
            "Epoch 40/40\n",
            "2/2 [==============================] - 0s 116ms/step - loss: 2.2037e-11 - accuracy: 1.0000\n"
          ]
        },
        {
          "output_type": "execute_result",
          "data": {
            "text/plain": [
              "<keras.src.callbacks.History at 0x79930a4f6110>"
            ]
          },
          "metadata": {},
          "execution_count": 173
        }
      ]
    },
    {
      "cell_type": "code",
      "source": [
        "# Evaluate the model on the test data\n",
        "accuracy = model.evaluate(X_test, Y_test)[1]\n",
        "print(f\"Test accuracy: {accuracy}\")"
      ],
      "metadata": {
        "colab": {
          "base_uri": "https://localhost:8080/"
        },
        "id": "q51DX7MUXo4u",
        "outputId": "f7a931b6-1a9f-4192-9d6c-907e05287b33"
      },
      "execution_count": 174,
      "outputs": [
        {
          "output_type": "stream",
          "name": "stdout",
          "text": [
            "1/1 [==============================] - 0s 171ms/step - loss: 4.2474e-18 - accuracy: 1.0000\n",
            "Test accuracy: 1.0\n"
          ]
        }
      ]
    },
    {
      "cell_type": "code",
      "source": [
        "# Save the trained model\n",
        "model.save('/content/drive/My Drive/Deep_Learning/trained_model.h5')"
      ],
      "metadata": {
        "id": "TXPDUV-mXvRZ"
      },
      "execution_count": 175,
      "outputs": []
    },
    {
      "cell_type": "markdown",
      "source": [
        "**Test Images**"
      ],
      "metadata": {
        "id": "dDM6V3j3X9Uk"
      }
    },
    {
      "cell_type": "code",
      "source": [
        "# Load the trained model\n",
        "model = load_model('/content/drive/My Drive/Deep_Learning/trained_model.h5')"
      ],
      "metadata": {
        "id": "MojZbErIUV5K"
      },
      "execution_count": 176,
      "outputs": []
    },
    {
      "cell_type": "code",
      "source": [
        "# Use the model to predict labels for the test images\n",
        "predicted_labels = model.predict(X_test)\n",
        "predicted_labels = np.argmax(predicted_labels, axis=1)  # Convert softmax outputs to class labels"
      ],
      "metadata": {
        "colab": {
          "base_uri": "https://localhost:8080/"
        },
        "id": "3x9E_qr6YC0K",
        "outputId": "4c33685c-1511-45e3-f2e7-e1a50bc75a18"
      },
      "execution_count": 177,
      "outputs": [
        {
          "output_type": "stream",
          "name": "stdout",
          "text": [
            "1/1 [==============================] - 0s 87ms/step\n"
          ]
        }
      ]
    },
    {
      "cell_type": "code",
      "source": [
        "# Create a DataFrame to store the image paths and predicted labels\n",
        "output_df = pd.DataFrame({'Image_Path': test_df['Image_Path'], 'Predicted_Label': predicted_labels})"
      ],
      "metadata": {
        "id": "Rugyw343YFyw"
      },
      "execution_count": 178,
      "outputs": []
    },
    {
      "cell_type": "code",
      "source": [
        "# Save the output DataFrame as a CSV file (you can change the output path)\n",
        "output_csv_path = '/content/drive/My Drive/Deep_Learning/predicted_labels.csv'\n",
        "output_df.to_csv(output_csv_path, index=False)\n",
        "\n",
        "print(f\"Predicted labels saved to: {output_csv_path}\")\n"
      ],
      "metadata": {
        "colab": {
          "base_uri": "https://localhost:8080/"
        },
        "id": "XWyUPm7VYI5L",
        "outputId": "23ea1a3c-dafd-4f58-b899-7bdd5f049865"
      },
      "execution_count": 179,
      "outputs": [
        {
          "output_type": "stream",
          "name": "stdout",
          "text": [
            "Predicted labels saved to: /content/drive/My Drive/Deep_Learning/predicted_labels.csv\n"
          ]
        }
      ]
    },
    {
      "cell_type": "markdown",
      "source": [
        "**Cheking original images**"
      ],
      "metadata": {
        "id": "k_A-7hKgXyhr"
      }
    },
    {
      "cell_type": "code",
      "source": [
        "idx = random.randint(0, len(X_train))\n",
        "plt.imshow(X_train[idx, :])\n",
        "plt.show()"
      ],
      "metadata": {
        "colab": {
          "base_uri": "https://localhost:8080/",
          "height": 433
        },
        "id": "UQL8D5aYXA0b",
        "outputId": "0b37ea25-bc5e-415f-9b42-ec5f4054d7ed"
      },
      "execution_count": 180,
      "outputs": [
        {
          "output_type": "display_data",
          "data": {
            "text/plain": [
              "<Figure size 640x480 with 1 Axes>"
            ],
            "image/png": "[encoded data removed]"
          },
          "metadata": {}
        }
      ]
    },
    {
      "cell_type": "markdown",
      "source": [
        "**Model evaluation**"
      ],
      "metadata": {
        "id": "sKDevZfZYakd"
      }
    },
    {
      "cell_type": "code",
      "source": [
        "model.evaluate(X_test, Y_test)"
      ],
      "metadata": {
        "colab": {
          "base_uri": "https://localhost:8080/"
        },
        "id": "lWZhxgEtYXYR",
        "outputId": "667be973-0653-4e7b-d815-ed66a9fb373b"
      },
      "execution_count": 181,
      "outputs": [
        {
          "output_type": "stream",
          "name": "stdout",
          "text": [
            "1/1 [==============================] - 0s 170ms/step - loss: 4.2474e-18 - accuracy: 1.0000\n"
          ]
        },
        {
          "output_type": "execute_result",
          "data": {
            "text/plain": [
              "[4.247373094932172e-18, 1.0]"
            ]
          },
          "metadata": {},
          "execution_count": 181
        }
      ]
    },
    {
      "cell_type": "code",
      "source": [
        "# Choose a random index from the test set\n",
        "idx2 = random.randint(0, len(Y_test))\n",
        "\n",
        "# Display the image\n",
        "plt.imshow(X_test[idx2, :])\n",
        "plt.show()\n",
        "\n",
        "# Predict using the model for the selected image\n",
        "y_pred = model.predict(X_test[idx2, :].reshape(1, 80, 80, 3))\n",
        "\n",
        "# Check the prediction and print the result\n",
        "if np.all(y_pred < 0.5):\n",
        "    pred = 'ර'\n",
        "else:\n",
        "    pred = 'ප'\n",
        "\n",
        "print(\"Our model says it is:\", pred)\n",
        "\n",
        "# Evaluate the model on the test data\n",
        "loss, accuracy = model.evaluate(X_test, Y_test)\n",
        "\n",
        "# Print the test accuracy\n",
        "print(f\"Test accuracy: {accuracy}\")"
      ],
      "metadata": {
        "colab": {
          "base_uri": "https://localhost:8080/",
          "height": 504
        },
        "id": "jsXfbnGXWfPx",
        "outputId": "ab58ceed-4802-43a8-df83-894f950a4c00"
      },
      "execution_count": 182,
      "outputs": [
        {
          "output_type": "display_data",
          "data": {
            "text/plain": [
              "<Figure size 640x480 with 1 Axes>"
            ],
            "image/png": "[encoded data removed]"
          },
          "metadata": {}
        },
        {
          "output_type": "stream",
          "name": "stdout",
          "text": [
            "1/1 [==============================] - 0s 27ms/step\n",
            "Our model says it is: ප\n",
            "1/1 [==============================] - 0s 50ms/step - loss: 4.2474e-18 - accuracy: 1.0000\n",
            "Test accuracy: 1.0\n"
          ]
        }
      ]
    },
    {
      "cell_type": "code",
      "source": [
        "# Choose a random index from the test set\n",
        "idx2 = random.randint(0, len(Y_test))\n",
        "\n",
        "# Display the image\n",
        "plt.imshow(X_test[idx2, :])\n",
        "plt.show()\n",
        "\n",
        "# Predict using the model for the selected image\n",
        "y_pred = model.predict(X_test[idx2, :].reshape(1, 80, 80, 3))\n",
        "\n",
        "# Check the prediction and print the result\n",
        "if np.all(y_pred < 0.5):\n",
        "    pred = 'ර'\n",
        "else:\n",
        "    pred = 'ප'\n",
        "\n",
        "print(\"Our model says it is:\", pred)\n",
        "\n",
        "# Evaluate the model on the test data\n",
        "loss, accuracy = model.evaluate(X_test, Y_test)\n",
        "\n",
        "# Print the test accuracy\n",
        "print(f\"Test accuracy: {accuracy}\")"
      ],
      "metadata": {
        "colab": {
          "base_uri": "https://localhost:8080/",
          "height": 504
        },
        "id": "e-CWPjisdc7_",
        "outputId": "ec0102ca-ea9c-4213-a404-692c07466467"
      },
      "execution_count": 183,
      "outputs": [
        {
          "output_type": "display_data",
          "data": {
            "text/plain": [
              "<Figure size 640x480 with 1 Axes>"
            ],
            "image/png": "[encoded data removed]"
          },
          "metadata": {}
        },
        {
          "output_type": "stream",
          "name": "stdout",
          "text": [
            "1/1 [==============================] - 0s 25ms/step\n",
            "Our model says it is: ර\n",
            "1/1 [==============================] - 0s 47ms/step - loss: 4.2474e-18 - accuracy: 1.0000\n",
            "Test accuracy: 1.0\n"
          ]
        }
      ]
    }
  ]
}